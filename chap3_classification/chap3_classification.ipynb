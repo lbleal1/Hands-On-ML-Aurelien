{
  "nbformat": 4,
  "nbformat_minor": 0,
  "metadata": {
    "colab": {
      "name": "chap3 - classification.ipynb",
      "provenance": [],
      "collapsed_sections": [],
      "toc_visible": true
    },
    "kernelspec": {
      "name": "python3",
      "display_name": "Python 3"
    }
  },
  "cells": [
    {
      "cell_type": "code",
      "metadata": {
        "id": "C4HQ2GlbnxFE"
      },
      "source": [
        "import numpy as np"
      ],
      "execution_count": 1,
      "outputs": []
    },
    {
      "cell_type": "markdown",
      "metadata": {
        "id": "60GmGKdGmDur"
      },
      "source": [
        "# 1 DATASET: MNIST"
      ]
    },
    {
      "cell_type": "markdown",
      "metadata": {
        "id": "zaxLRlqImYw-"
      },
      "source": [
        "Fetching the data"
      ]
    },
    {
      "cell_type": "code",
      "metadata": {
        "id": "lQ6C3Ldal_iN",
        "outputId": "901abc67-913c-44ec-b1c9-0f07ef3e10a4",
        "colab": {
          "base_uri": "https://localhost:8080/",
          "height": 54
        }
      },
      "source": [
        "from sklearn.datasets import fetch_openml\n",
        "\n",
        "mnist = fetch_openml('mnist_784', version=1)\n",
        "mnist.keys()"
      ],
      "execution_count": 2,
      "outputs": [
        {
          "output_type": "execute_result",
          "data": {
            "text/plain": [
              "dict_keys(['data', 'target', 'frame', 'feature_names', 'target_names', 'DESCR', 'details', 'categories', 'url'])"
            ]
          },
          "metadata": {
            "tags": []
          },
          "execution_count": 2
        }
      ]
    },
    {
      "cell_type": "code",
      "metadata": {
        "id": "Ec2rZ4VfmS88",
        "outputId": "e1d2576a-1e9e-411a-d996-8dc83ea60aad",
        "colab": {
          "base_uri": "https://localhost:8080/",
          "height": 34
        }
      },
      "source": [
        "print(type(mnist))"
      ],
      "execution_count": 3,
      "outputs": [
        {
          "output_type": "stream",
          "text": [
            "<class 'sklearn.utils.Bunch'>\n"
          ],
          "name": "stdout"
        }
      ]
    },
    {
      "cell_type": "code",
      "metadata": {
        "id": "nVlz8t7DmkAQ",
        "outputId": "19e83bd3-47f8-4adc-d6d9-9849c6ef9ea3",
        "colab": {
          "base_uri": "https://localhost:8080/",
          "height": 258
        }
      },
      "source": [
        "print(mnist['DESCR'])"
      ],
      "execution_count": 4,
      "outputs": [
        {
          "output_type": "stream",
          "text": [
            "**Author**: Yann LeCun, Corinna Cortes, Christopher J.C. Burges  \n",
            "**Source**: [MNIST Website](http://yann.lecun.com/exdb/mnist/) - Date unknown  \n",
            "**Please cite**:  \n",
            "\n",
            "The MNIST database of handwritten digits with 784 features, raw data available at: http://yann.lecun.com/exdb/mnist/. It can be split in a training set of the first 60,000 examples, and a test set of 10,000 examples  \n",
            "\n",
            "It is a subset of a larger set available from NIST. The digits have been size-normalized and centered in a fixed-size image. It is a good database for people who want to try learning techniques and pattern recognition methods on real-world data while spending minimal efforts on preprocessing and formatting. The original black and white (bilevel) images from NIST were size normalized to fit in a 20x20 pixel box while preserving their aspect ratio. The resulting images contain grey levels as a result of the anti-aliasing technique used by the normalization algorithm. the images were centered in a 28x28 image by computing the center of mass of the pixels, and translating the image so as to position this point at the center of the 28x28 field.  \n",
            "\n",
            "With some classification methods (particularly template-based methods, such as SVM and K-nearest neighbors), the error rate improves when the digits are centered by bounding box rather than center of mass. If you do this kind of pre-processing, you should report it in your publications. The MNIST database was constructed from NIST's NIST originally designated SD-3 as their training set and SD-1 as their test set. However, SD-3 is much cleaner and easier to recognize than SD-1. The reason for this can be found on the fact that SD-3 was collected among Census Bureau employees, while SD-1 was collected among high-school students. Drawing sensible conclusions from learning experiments requires that the result be independent of the choice of training set and test among the complete set of samples. Therefore it was necessary to build a new database by mixing NIST's datasets.  \n",
            "\n",
            "The MNIST training set is composed of 30,000 patterns from SD-3 and 30,000 patterns from SD-1. Our test set was composed of 5,000 patterns from SD-3 and 5,000 patterns from SD-1. The 60,000 pattern training set contained examples from approximately 250 writers. We made sure that the sets of writers of the training set and test set were disjoint. SD-1 contains 58,527 digit images written by 500 different writers. In contrast to SD-3, where blocks of data from each writer appeared in sequence, the data in SD-1 is scrambled. Writer identities for SD-1 is available and we used this information to unscramble the writers. We then split SD-1 in two: characters written by the first 250 writers went into our new training set. The remaining 250 writers were placed in our test set. Thus we had two sets with nearly 30,000 examples each. The new training set was completed with enough examples from SD-3, starting at pattern # 0, to make a full set of 60,000 training patterns. Similarly, the new test set was completed with SD-3 examples starting at pattern # 35,000 to make a full set with 60,000 test patterns. Only a subset of 10,000 test images (5,000 from SD-1 and 5,000 from SD-3) is available on this site. The full 60,000 sample training set is available.\n",
            "\n",
            "Downloaded from openml.org.\n"
          ],
          "name": "stdout"
        }
      ]
    },
    {
      "cell_type": "markdown",
      "metadata": {
        "id": "c1D6pmDgmcNF"
      },
      "source": [
        "Looking at the data some properties and changing data type as needed"
      ]
    },
    {
      "cell_type": "code",
      "metadata": {
        "id": "YWhCpbIMmbKG"
      },
      "source": [
        "X, y = mnist['data'], mnist['target']"
      ],
      "execution_count": 5,
      "outputs": []
    },
    {
      "cell_type": "code",
      "metadata": {
        "id": "8wwdj6dzmyoh",
        "outputId": "43371170-60ff-4502-c673-bcaa51b46c20",
        "colab": {
          "base_uri": "https://localhost:8080/",
          "height": 51
        }
      },
      "source": [
        "print(X.shape)\n",
        "print(type(X))"
      ],
      "execution_count": 6,
      "outputs": [
        {
          "output_type": "stream",
          "text": [
            "(70000, 784)\n",
            "<class 'numpy.ndarray'>\n"
          ],
          "name": "stdout"
        }
      ]
    },
    {
      "cell_type": "code",
      "metadata": {
        "id": "11Y5YFLnm_lI",
        "outputId": "8f85a16f-adae-49b9-a8ea-f331a06ffa8b",
        "colab": {
          "base_uri": "https://localhost:8080/",
          "height": 248
        }
      },
      "source": [
        "from matplotlib import pyplot as plt\n",
        "\n",
        "digit_img = X[0].reshape(28,28)\n",
        "\n",
        "plt.imshow(digit_img, cmap= \"binary\")\n",
        "plt.axis(\"off\")\n",
        "plt.show()"
      ],
      "execution_count": 7,
      "outputs": [
        {
          "output_type": "display_data",
          "data": {
            "image/png": "[encoded data removed]",
            "text/plain": [
              "<Figure size 432x288 with 1 Axes>"
            ]
          },
          "metadata": {
            "tags": [],
            "needs_background": "light"
          }
        }
      ]
    },
    {
      "cell_type": "code",
      "metadata": {
        "id": "rBsY-Q8Hm0eI",
        "outputId": "cf288b2b-9ede-4058-8707-8f3d11d00324",
        "colab": {
          "base_uri": "https://localhost:8080/",
          "height": 51
        }
      },
      "source": [
        "print(y.shape)\n",
        "print(type(y))"
      ],
      "execution_count": 8,
      "outputs": [
        {
          "output_type": "stream",
          "text": [
            "(70000,)\n",
            "<class 'numpy.ndarray'>\n"
          ],
          "name": "stdout"
        }
      ]
    },
    {
      "cell_type": "code",
      "metadata": {
        "id": "lAVU_1Z8m11q",
        "outputId": "91589043-9cb1-417a-83a4-76f71124683a",
        "colab": {
          "base_uri": "https://localhost:8080/",
          "height": 35
        }
      },
      "source": [
        "y[0]"
      ],
      "execution_count": 9,
      "outputs": [
        {
          "output_type": "execute_result",
          "data": {
            "application/vnd.google.colaboratory.intrinsic+json": {
              "type": "string"
            },
            "text/plain": [
              "'5'"
            ]
          },
          "metadata": {
            "tags": []
          },
          "execution_count": 9
        }
      ]
    },
    {
      "cell_type": "code",
      "metadata": {
        "id": "zmmYWeWNnfM4",
        "outputId": "e1237aa3-f28e-402d-d0bb-205cc53b98b3",
        "colab": {
          "base_uri": "https://localhost:8080/",
          "height": 34
        }
      },
      "source": [
        "y = y.astype(np.uint8)\n",
        "print(type(y))\n",
        "\n",
        "# alternative\n",
        "# y = np.asarray([int(y_elem) for y_elem in list(y)])"
      ],
      "execution_count": 10,
      "outputs": [
        {
          "output_type": "stream",
          "text": [
            "<class 'numpy.ndarray'>\n"
          ],
          "name": "stdout"
        }
      ]
    },
    {
      "cell_type": "code",
      "metadata": {
        "id": "1eBwwrwKoK6h",
        "outputId": "4a798fb2-37bf-4f3c-8a40-945307929e6f",
        "colab": {
          "base_uri": "https://localhost:8080/",
          "height": 34
        }
      },
      "source": [
        "y"
      ],
      "execution_count": 11,
      "outputs": [
        {
          "output_type": "execute_result",
          "data": {
            "text/plain": [
              "array([5, 0, 4, ..., 4, 5, 6], dtype=uint8)"
            ]
          },
          "metadata": {
            "tags": []
          },
          "execution_count": 11
        }
      ]
    },
    {
      "cell_type": "markdown",
      "metadata": {
        "id": "yanLvUGCoY_l"
      },
      "source": [
        "Train-test split"
      ]
    },
    {
      "cell_type": "code",
      "metadata": {
        "id": "NQbKLV49obJv"
      },
      "source": [
        "# note X and y are numpy arrays\n",
        "X_train, y_train, X_test, y_test = X[:60000], y[:60000], X[60000:], y[60000:]"
      ],
      "execution_count": 12,
      "outputs": []
    },
    {
      "cell_type": "markdown",
      "metadata": {
        "id": "qRpuIiwHunje"
      },
      "source": [
        "# 2 Binary Classifier\n",
        "\n",
        "`SGDClassifier` \n",
        "- Linear classifiers (SVM, logistic regression, etc.) with SGD training.\n",
        "-  by default, it fits a linear support vector machine (SVM).\n",
        "\n",
        "\n",
        "[documentation](https://scikit-learn.org/stable/modules/generated/sklearn.linear_model.SGDClassifier.html)\n",
        "> This estimator implements regularized linear models with stochastic gradient descent (SGD) learning: the gradient of the loss is estimated each sample at a time and the model is updated along the way with a decreasing strength schedule (aka learning rate). SGD allows minibatch (online/out-of-core) learning, see the partial_fit method. For best results using the default learning rate schedule, the data should have zero mean and unit variance.\n",
        "\n",
        "> This implementation works with data represented as dense or sparse arrays of floating point values for the features. The model it fits can be controlled with the loss parameter; by default, it fits a linear support vector machine (SVM).\n",
        "\n",
        "\n",
        "\n"
      ]
    },
    {
      "cell_type": "code",
      "metadata": {
        "id": "9mEFCyu6v6-B"
      },
      "source": [
        "# change the target labels for binary classification for both train and test sets\n",
        "# 5 or not 5\n",
        "\n",
        "y_train_5 = y_train==5\n",
        "y_test_5 = y_test==5\n"
      ],
      "execution_count": 13,
      "outputs": []
    },
    {
      "cell_type": "code",
      "metadata": {
        "id": "kCYGpvzIvsgm",
        "outputId": "afcc2f58-e066-49c9-f435-25017800163a",
        "colab": {
          "base_uri": "https://localhost:8080/",
          "height": 119
        }
      },
      "source": [
        "from sklearn.linear_model import SGDClassifier\n",
        "\n",
        "# random_state - used for shuffling the data, when shuffle is set to True. \n",
        "# Pass an int for reproducible output across multiple function calls. \n",
        "sgd_clf = SGDClassifier(random_state=42) \n",
        "sgd_clf.fit(X_train, y_train_5)"
      ],
      "execution_count": 14,
      "outputs": [
        {
          "output_type": "execute_result",
          "data": {
            "text/plain": [
              "SGDClassifier(alpha=0.0001, average=False, class_weight=None,\n",
              "              early_stopping=False, epsilon=0.1, eta0=0.0, fit_intercept=True,\n",
              "              l1_ratio=0.15, learning_rate='optimal', loss='hinge',\n",
              "              max_iter=1000, n_iter_no_change=5, n_jobs=None, penalty='l2',\n",
              "              power_t=0.5, random_state=42, shuffle=True, tol=0.001,\n",
              "              validation_fraction=0.1, verbose=0, warm_start=False)"
            ]
          },
          "metadata": {
            "tags": []
          },
          "execution_count": 14
        }
      ]
    },
    {
      "cell_type": "code",
      "metadata": {
        "id": "IcXewhJEwois",
        "outputId": "a4e3deda-7578-4088-8e67-a0580f4bc1bb",
        "colab": {
          "base_uri": "https://localhost:8080/",
          "height": 34
        }
      },
      "source": [
        "sgd_clf.predict([X_train[0]]) # predict parameter should be list"
      ],
      "execution_count": 15,
      "outputs": [
        {
          "output_type": "execute_result",
          "data": {
            "text/plain": [
              "array([ True])"
            ]
          },
          "metadata": {
            "tags": []
          },
          "execution_count": 15
        }
      ]
    },
    {
      "cell_type": "code",
      "metadata": {
        "id": "ZwrB4w34w9qW",
        "outputId": "2b9707c6-377d-4636-981d-587e88e62dde",
        "colab": {
          "base_uri": "https://localhost:8080/",
          "height": 34
        }
      },
      "source": [
        "y_train_5[0]"
      ],
      "execution_count": 16,
      "outputs": [
        {
          "output_type": "execute_result",
          "data": {
            "text/plain": [
              "True"
            ]
          },
          "metadata": {
            "tags": []
          },
          "execution_count": 16
        }
      ]
    },
    {
      "cell_type": "markdown",
      "metadata": {
        "id": "Hxi09GJaxVKn"
      },
      "source": [
        "# 3 Performance Measures"
      ]
    },
    {
      "cell_type": "markdown",
      "metadata": {
        "id": "2AIj6aTh3KMe"
      },
      "source": [
        "## 1 Accuracy with Cross Validation"
      ]
    },
    {
      "cell_type": "code",
      "metadata": {
        "id": "QS_8oYoJzLUJ",
        "outputId": "a4445d17-4a65-4fcb-f7e7-3723bba536e2",
        "colab": {
          "base_uri": "https://localhost:8080/",
          "height": 34
        }
      },
      "source": [
        "from sklearn.model_selection import cross_val_score\n",
        "\n",
        "cross_val_score(sgd_clf, X_train, y_train_5, cv=3, scoring=\"accuracy\")"
      ],
      "execution_count": 17,
      "outputs": [
        {
          "output_type": "execute_result",
          "data": {
            "text/plain": [
              "array([0.95035, 0.96035, 0.9604 ])"
            ]
          },
          "metadata": {
            "tags": []
          },
          "execution_count": 17
        }
      ]
    },
    {
      "cell_type": "markdown",
      "metadata": {
        "id": "DtcPdLYy3riN"
      },
      "source": [
        "under the hood, this is how `cross_val_score` works similarly"
      ]
    },
    {
      "cell_type": "code",
      "metadata": {
        "id": "ysZrsj-C3v7U",
        "outputId": "1e6ede20-2a64-4e29-a509-e79edcb23b03",
        "colab": {
          "base_uri": "https://localhost:8080/",
          "height": 122
        }
      },
      "source": [
        "from sklearn.model_selection import StratifiedKFold\n",
        "from sklearn.base import clone\n",
        "\n",
        "skfolds = StratifiedKFold(n_splits=3, random_state=42)\n",
        "\n",
        "for train_index, test_index in skfolds.split(X_train, y_train_5): # splits  to train and valid\n",
        "  clone_clf = clone(sgd_clf)\n",
        "  \n",
        "  # train\n",
        "  X_train_folds = X_train[train_index]\n",
        "  y_train_folds = y_train_5[train_index]\n",
        "\n",
        "  # valid\n",
        "  X_test_folds = X_train[test_index]\n",
        "  y_test_folds = y_train_5[test_index]\n",
        "\n",
        "  clone_clf.fit(X_train_folds, y_train_folds)\n",
        "\n",
        "  y_pred = clone_clf.predict(X_test_folds)\n",
        "  n_correct = sum(y_pred==y_test_folds)\n",
        "  print(n_correct/len(y_test_folds))\n"
      ],
      "execution_count": 18,
      "outputs": [
        {
          "output_type": "stream",
          "text": [
            "/usr/local/lib/python3.6/dist-packages/sklearn/model_selection/_split.py:296: FutureWarning: Setting a random_state has no effect since shuffle is False. This will raise an error in 0.24. You should leave random_state to its default (None), or set shuffle=True.\n",
            "  FutureWarning\n"
          ],
          "name": "stderr"
        },
        {
          "output_type": "stream",
          "text": [
            "0.95035\n",
            "0.96035\n",
            "0.9604\n"
          ],
          "name": "stdout"
        }
      ]
    },
    {
      "cell_type": "markdown",
      "metadata": {
        "id": "t2dNq3tN50rz"
      },
      "source": [
        "But our data is skewed, only 10% are '5' and a classifier Not 5 might do better"
      ]
    },
    {
      "cell_type": "code",
      "metadata": {
        "id": "xIOvP39l5lBi",
        "outputId": "4723b45b-fd6b-4cab-bec7-a24e826c938f",
        "colab": {
          "base_uri": "https://localhost:8080/",
          "height": 34
        }
      },
      "source": [
        "sum(y_train_5)/len(y_train_5) *100"
      ],
      "execution_count": 19,
      "outputs": [
        {
          "output_type": "execute_result",
          "data": {
            "text/plain": [
              "9.035"
            ]
          },
          "metadata": {
            "tags": []
          },
          "execution_count": 19
        }
      ]
    },
    {
      "cell_type": "markdown",
      "metadata": {
        "id": "nzJG3zLm6qgT"
      },
      "source": [
        "## 2 Confusion Matrix"
      ]
    },
    {
      "cell_type": "markdown",
      "metadata": {
        "id": "lzt-Ok5DEmrH"
      },
      "source": [
        "**Requirements:**\n",
        "1. Actual Predictions \n",
        "2. Ground Truth Labels"
      ]
    },
    {
      "cell_type": "code",
      "metadata": {
        "id": "i7j7IX8UEixs"
      },
      "source": [
        "from sklearn.model_selection import cross_val_predict\n",
        "\n",
        "y_train_pred = cross_val_predict(sgd_clf, X_train, y_train_5, cv=3)"
      ],
      "execution_count": 20,
      "outputs": []
    },
    {
      "cell_type": "code",
      "metadata": {
        "id": "o3D1f5RjE2kn",
        "outputId": "eb6c290a-8c53-4abc-b3b7-306aba6993e0",
        "colab": {
          "base_uri": "https://localhost:8080/",
          "height": 34
        }
      },
      "source": [
        "y_train_pred.shape"
      ],
      "execution_count": 21,
      "outputs": [
        {
          "output_type": "execute_result",
          "data": {
            "text/plain": [
              "(60000,)"
            ]
          },
          "metadata": {
            "tags": []
          },
          "execution_count": 21
        }
      ]
    },
    {
      "cell_type": "code",
      "metadata": {
        "id": "3f3PZyhMVbyR",
        "outputId": "a820928c-3ff5-4b97-ce51-9b823ad9deaf",
        "colab": {
          "base_uri": "https://localhost:8080/",
          "height": 34
        }
      },
      "source": [
        "y_train_pred[:5]"
      ],
      "execution_count": 22,
      "outputs": [
        {
          "output_type": "execute_result",
          "data": {
            "text/plain": [
              "array([ True, False, False, False, False])"
            ]
          },
          "metadata": {
            "tags": []
          },
          "execution_count": 22
        }
      ]
    },
    {
      "cell_type": "markdown",
      "metadata": {
        "id": "jpmWfx9oHMD3"
      },
      "source": [
        "Computing the Confusion Matrix"
      ]
    },
    {
      "cell_type": "code",
      "metadata": {
        "id": "W_kTuBPGFHvo",
        "outputId": "e215b618-2eb5-4c54-878f-23b0678e0376",
        "colab": {
          "base_uri": "https://localhost:8080/",
          "height": 51
        }
      },
      "source": [
        "from sklearn.metrics import confusion_matrix\n",
        "\n",
        "confusion_matrix(y_train_5, y_train_pred)"
      ],
      "execution_count": 23,
      "outputs": [
        {
          "output_type": "execute_result",
          "data": {
            "text/plain": [
              "array([[53892,   687],\n",
              "       [ 1891,  3530]])"
            ]
          },
          "metadata": {
            "tags": []
          },
          "execution_count": 23
        }
      ]
    },
    {
      "cell_type": "markdown",
      "metadata": {
        "id": "XN-HeWoXHqcI"
      },
      "source": [
        "Resulting Confusion Matrix <br>\n",
        "[ true negatives,  false positives] <br>\n",
        "[ false negatives, true positives]"
      ]
    },
    {
      "cell_type": "markdown",
      "metadata": {
        "id": "2OY0QVayJ8Wr"
      },
      "source": [
        "## 3 Precision and Recall"
      ]
    },
    {
      "cell_type": "markdown",
      "metadata": {
        "id": "CA_zEs7vZ4Px"
      },
      "source": [
        "### Computing Precision and Recall"
      ]
    },
    {
      "cell_type": "code",
      "metadata": {
        "id": "yc2zlzRBHWi2",
        "outputId": "9ff5ab92-93b3-4c77-95e9-1c9bf569e7ee",
        "colab": {
          "base_uri": "https://localhost:8080/",
          "height": 34
        }
      },
      "source": [
        "from sklearn.metrics import precision_score, recall_score\n",
        "\n",
        "print(precision_score(y_train_5, y_train_pred)) # ground truth, prediction\n",
        "# When it claims an image represents a 5, it is correct only 72.9% of the time"
      ],
      "execution_count": 24,
      "outputs": [
        {
          "output_type": "stream",
          "text": [
            "0.8370879772350012\n"
          ],
          "name": "stdout"
        }
      ]
    },
    {
      "cell_type": "code",
      "metadata": {
        "id": "zeAfPoU-KZKy",
        "outputId": "18b51327-1205-4951-849d-429f74d9f3ed",
        "colab": {
          "base_uri": "https://localhost:8080/",
          "height": 34
        }
      },
      "source": [
        "print(recall_score(y_train_5, y_train_pred))\n",
        "# it only detects 75.6% of the 5s"
      ],
      "execution_count": 25,
      "outputs": [
        {
          "output_type": "stream",
          "text": [
            "0.6511713705958311\n"
          ],
          "name": "stdout"
        }
      ]
    },
    {
      "cell_type": "code",
      "metadata": {
        "id": "UO1i56EaWHhH",
        "outputId": "3fccf886-bab0-4b32-f4db-d9b706eb53e8",
        "colab": {
          "base_uri": "https://localhost:8080/",
          "height": 34
        }
      },
      "source": [
        "from sklearn.metrics import f1_score\n",
        "\n",
        "f1_score(y_train_5, y_train_pred)"
      ],
      "execution_count": 26,
      "outputs": [
        {
          "output_type": "execute_result",
          "data": {
            "text/plain": [
              "0.7325171197343846"
            ]
          },
          "metadata": {
            "tags": []
          },
          "execution_count": 26
        }
      ]
    },
    {
      "cell_type": "markdown",
      "metadata": {
        "id": "iYvs2SDSYk3X"
      },
      "source": [
        "### Precision/Recall Trade-off"
      ]
    },
    {
      "cell_type": "markdown",
      "metadata": {
        "id": "my866gwSxOQc"
      },
      "source": [
        "#### Exposing the Trade-off"
      ]
    },
    {
      "cell_type": "markdown",
      "metadata": {
        "id": "AMOCbJxYm4oP"
      },
      "source": [
        "First, we need to understand how SGDClassifier makes its decision\n",
        "\n",
        "remember:\n",
        "```\n",
        "sgd_clf = SGDClassifier()\n",
        "sgd_clf.fit(X_train, y_train_5)\n",
        "sgd_clf.predict(X_train)\n",
        "```\n",
        "\n",
        "KEY QUESTION: <br>\n",
        "How does `SGDClassifier()` makes its classification decision?\n",
        "\n",
        "1. For each instance, it computes a score based on a `decision function`\n",
        "2. Deciding:\n",
        "   * If that score is greater than a threshold, it assigns the instance to the positive class\n",
        "   * Otherwise, it assigns the instance to the negative class"
      ]
    },
    {
      "cell_type": "markdown",
      "metadata": {
        "id": "cXo8hdKuvwhk"
      },
      "source": [
        "**Example instance:**"
      ]
    },
    {
      "cell_type": "code",
      "metadata": {
        "id": "g49c_JL7ZUzM",
        "outputId": "515fc2e5-c97f-4776-8baa-749e5c478d33",
        "colab": {
          "base_uri": "https://localhost:8080/",
          "height": 34
        }
      },
      "source": [
        "y_score = sgd_clf.decision_function([X_train[0]])\n",
        "y_score"
      ],
      "execution_count": 27,
      "outputs": [
        {
          "output_type": "execute_result",
          "data": {
            "text/plain": [
              "array([2164.22030239])"
            ]
          },
          "metadata": {
            "tags": []
          },
          "execution_count": 27
        }
      ]
    },
    {
      "cell_type": "code",
      "metadata": {
        "id": "s8yt4e7cq0D9",
        "outputId": "8f6f4c71-0736-45e6-8ba7-768196b7ca5b",
        "colab": {
          "base_uri": "https://localhost:8080/",
          "height": 34
        }
      },
      "source": [
        "y_train_5[0] # ground truth"
      ],
      "execution_count": 28,
      "outputs": [
        {
          "output_type": "execute_result",
          "data": {
            "text/plain": [
              "True"
            ]
          },
          "metadata": {
            "tags": []
          },
          "execution_count": 28
        }
      ]
    },
    {
      "cell_type": "code",
      "metadata": {
        "id": "XaipnguEZlSm",
        "outputId": "4b2ad9d6-73e4-4557-abd3-bda52b4c6e83",
        "colab": {
          "base_uri": "https://localhost:8080/",
          "height": 34
        }
      },
      "source": [
        "threshold = 0\n",
        "y_pred = (y_score > threshold)\n",
        "y_pred"
      ],
      "execution_count": 29,
      "outputs": [
        {
          "output_type": "execute_result",
          "data": {
            "text/plain": [
              "array([ True])"
            ]
          },
          "metadata": {
            "tags": []
          },
          "execution_count": 29
        }
      ]
    },
    {
      "cell_type": "code",
      "metadata": {
        "id": "82KujBKmaLMM",
        "outputId": "9d863b1f-d268-41da-ef35-1b127ee5098c",
        "colab": {
          "base_uri": "https://localhost:8080/",
          "height": 34
        }
      },
      "source": [
        "# increasing the threshold, increases the false negative -> decreases recall\n",
        "threshold = 8000\n",
        "y_pred = (y_score > threshold)\n",
        "y_pred"
      ],
      "execution_count": 30,
      "outputs": [
        {
          "output_type": "execute_result",
          "data": {
            "text/plain": [
              "array([False])"
            ]
          },
          "metadata": {
            "tags": []
          },
          "execution_count": 30
        }
      ]
    },
    {
      "cell_type": "markdown",
      "metadata": {
        "id": "y0BfKylZrnJg"
      },
      "source": [
        "**Note:**\n",
        "\n",
        "The threshold is a matter of `.predict()` and not of the computation of precision, recall or f1. \n",
        "\n",
        "**So our revised workflow, along with using the whole training set, will be:**\n"
      ]
    },
    {
      "cell_type": "code",
      "metadata": {
        "id": "6jUQvNYztKc1",
        "outputId": "d79f7e2c-45cb-4b3a-da42-166b314c6db1",
        "colab": {
          "base_uri": "https://localhost:8080/",
          "height": 68
        }
      },
      "source": [
        "# threshold is 0\n",
        "sgd_clf = SGDClassifier()\n",
        "sgd_clf.fit(X_train, y_train_5)\n",
        "\n",
        "y_train_pred_all = []\n",
        "\n",
        "# replaces predict\n",
        "for i in range(len(X_train)):\n",
        "  y_score = sgd_clf.decision_function([X_train[i]])\n",
        "  threshold = 0\n",
        "  y_train_pred = ( y_score > threshold )\n",
        "  y_train_pred_all.append(y_train_pred)\n",
        "\n",
        "y_train_pred_all = np.asarray(y_train_pred_all)\n",
        "\n",
        "print(precision_score(y_train_5, y_train_pred_all))\n",
        "print(recall_score(y_train_5, y_train_pred_all))\n",
        "print(f1_score(y_train_5, y_train_pred_all))"
      ],
      "execution_count": 31,
      "outputs": [
        {
          "output_type": "stream",
          "text": [
            "0.5450846005568645\n",
            "0.9389411547684929\n",
            "0.6897486279558236\n"
          ],
          "name": "stdout"
        }
      ]
    },
    {
      "cell_type": "code",
      "metadata": {
        "id": "WFJFxP5QvWxY",
        "outputId": "acf3e9bd-d062-4cab-84e8-0c52f05a8b82",
        "colab": {
          "base_uri": "https://localhost:8080/",
          "height": 68
        }
      },
      "source": [
        "# threshold = 8000\n",
        "sgd_clf = SGDClassifier()\n",
        "sgd_clf.fit(X_train, y_train_5)\n",
        "\n",
        "y_train_pred_all = []\n",
        "\n",
        "# replaces predict\n",
        "for i in range(len(X_train)):\n",
        "  y_score = sgd_clf.decision_function([X_train[i]])\n",
        "  threshold = 800\n",
        "  y_train_pred = ( y_score > threshold )\n",
        "  y_train_pred_all.append(y_train_pred)\n",
        "\n",
        "y_train_pred_all = np.asarray(y_train_pred_all)\n",
        "\n",
        "print(precision_score(y_train_5, y_train_pred_all))\n",
        "print(recall_score(y_train_5, y_train_pred_all))\n",
        "print(f1_score(y_train_5, y_train_pred_all))"
      ],
      "execution_count": 33,
      "outputs": [
        {
          "output_type": "stream",
          "text": [
            "0.9145998465865508\n",
            "0.6598413576830843\n",
            "0.7666095156450922\n"
          ],
          "name": "stdout"
        }
      ]
    },
    {
      "cell_type": "markdown",
      "metadata": {
        "id": "dOXpotcvwAQP"
      },
      "source": [
        "**Insights:**\n",
        "* We can see broadly the trade off: \n",
        "   * increasing the threshold,\n",
        "   * increases the precision\n",
        "   * decreases the recall\n",
        "\n",
        "(vice versa)"
      ]
    },
    {
      "cell_type": "markdown",
      "metadata": {
        "id": "D0qOdvVYaoCh"
      },
      "source": [
        "#### Deciding which threshold to use\n"
      ]
    },
    {
      "cell_type": "markdown",
      "metadata": {
        "id": "l7HPvBs8cbPE"
      },
      "source": [
        "1. Plotting precision and recall as function of the threshold\n",
        "\n",
        "- Requirements: precisions, recalls, thresholds"
      ]
    },
    {
      "cell_type": "code",
      "metadata": {
        "id": "QUmKMjTBZRHE"
      },
      "source": [
        "y_scores = cross_val_predict(sgd_clf, X_train, y_train_5, cv=3, method=\"decision_function\")"
      ],
      "execution_count": 34,
      "outputs": []
    },
    {
      "cell_type": "code",
      "metadata": {
        "id": "TdV3H2S2a8Lo",
        "outputId": "969283a9-3e10-465b-b1d6-a168bb3747f6",
        "colab": {
          "base_uri": "https://localhost:8080/",
          "height": 34
        }
      },
      "source": [
        "y_scores.shape"
      ],
      "execution_count": 35,
      "outputs": [
        {
          "output_type": "execute_result",
          "data": {
            "text/plain": [
              "(60000,)"
            ]
          },
          "metadata": {
            "tags": []
          },
          "execution_count": 35
        }
      ]
    },
    {
      "cell_type": "markdown",
      "metadata": {
        "id": "PIYS6IIL72wl"
      },
      "source": [
        "We use `precision_recall_curve` to get the three required values for the plot\n",
        "\n",
        "\n",
        "`precision_recall_curve` <br>\n",
        "- Compute precision-recall pairs for different probability thresholds\n",
        "\n",
        "- Note: this implementation is restricted to the binary classification task.\n",
        "\n",
        "[more on the documentation](https://scikit-learn.org/stable/modules/generated/sklearn.metrics.precision_recall_curve.html)"
      ]
    },
    {
      "cell_type": "code",
      "metadata": {
        "id": "mG8jJS7qa-Ci"
      },
      "source": [
        "from sklearn.metrics import precision_recall_curve\n",
        "precisions, recalls, thresholds = precision_recall_curve(y_train_5, y_scores)"
      ],
      "execution_count": null,
      "outputs": []
    },
    {
      "cell_type": "code",
      "metadata": {
        "id": "KdM_fBQbbkJr"
      },
      "source": [
        "def plot_precision_recall_vs_threshold(precisions, recalls, thresholds):\n",
        "    plt.plot(thresholds, precisions[:-1], \"b--\", label=\"Precision\", linewidth=2)\n",
        "    plt.plot(thresholds, recalls[:-1], \"g-\", label=\"Recall\", linewidth=2)\n",
        "    plt.legend(loc=\"center right\", fontsize=16) # Not shown in the book\n",
        "    plt.xlabel(\"Threshold\", fontsize=16)        # Not shown\n",
        "    plt.grid(True)                              # Not shown\n",
        "    plt.axis([-50000, 50000, 0, 1])             # Not shown\n",
        "\n",
        "\n",
        "\n",
        "recall_90_precision = recalls[np.argmax(precisions >= 0.90)]\n",
        "threshold_90_precision = thresholds[np.argmax(precisions >= 0.90)]\n",
        "\n",
        "\n",
        "plt.figure(figsize=(8, 4))                                                                  # Not shown\n",
        "plot_precision_recall_vs_threshold(precisions, recalls, thresholds)\n",
        "plt.plot([threshold_90_precision, threshold_90_precision], [0., 0.9], \"r:\")                 # Not shown\n",
        "plt.plot([-50000, threshold_90_precision], [0.9, 0.9], \"r:\")                                # Not shown\n",
        "plt.plot([-50000, threshold_90_precision], [recall_90_precision, recall_90_precision], \"r:\")# Not shown\n",
        "plt.plot([threshold_90_precision], [0.9], \"ro\")                                             # Not shown\n",
        "plt.plot([threshold_90_precision], [recall_90_precision], \"ro\")                             # Not shown                                            # Not shown\n",
        "plt.show()"
      ],
      "execution_count": null,
      "outputs": []
    },
    {
      "cell_type": "markdown",
      "metadata": {
        "id": "3rbw3QYLctvj"
      },
      "source": [
        "2. Precision vs Recall"
      ]
    },
    {
      "cell_type": "code",
      "metadata": {
        "id": "sI7rm2pWbm04"
      },
      "source": [
        "def plot_precision_vs_recall(precisions, recalls):\n",
        "    plt.plot(recalls, precisions, \"b-\", linewidth=2)\n",
        "    plt.xlabel(\"Recall\", fontsize=16)\n",
        "    plt.ylabel(\"Precision\", fontsize=16)\n",
        "    plt.axis([0, 1, 0, 1])\n",
        "    plt.grid(True)\n",
        "\n",
        "plt.figure(figsize=(8, 6))\n",
        "plot_precision_vs_recall(precisions, recalls)\n",
        "plt.plot([0.4368, 0.4368], [0., 0.9], \"r:\")\n",
        "plt.plot([0.0, 0.4368], [0.9, 0.9], \"r:\")\n",
        "plt.plot([0.4368], [0.9], \"ro\")\n",
        "plt.show()"
      ],
      "execution_count": null,
      "outputs": []
    },
    {
      "cell_type": "markdown",
      "metadata": {
        "id": "fQ7qRfQ8dKof"
      },
      "source": [
        "Using these plots to decide which"
      ]
    },
    {
      "cell_type": "code",
      "metadata": {
        "id": "TAZ5y2VTcwuq"
      },
      "source": [
        "# want a 90% precision\n",
        "threshold_90_precision = thresholds[np.argmax(precisions >= 0.90)] #\n",
        "~7816"
      ],
      "execution_count": null,
      "outputs": []
    },
    {
      "cell_type": "code",
      "metadata": {
        "id": "wsgPmN0fdRys"
      },
      "source": [
        "y_train_pred_90 = (y_scores >= threshold_90_precision)\n",
        "y_train_pred_90"
      ],
      "execution_count": null,
      "outputs": []
    },
    {
      "cell_type": "markdown",
      "metadata": {
        "id": "8Awasfzudy1v"
      },
      "source": [
        "checking"
      ]
    },
    {
      "cell_type": "code",
      "metadata": {
        "id": "zZwUYSQtdvs3"
      },
      "source": [
        "precision_score(y_train_5, y_train_pred_90)"
      ],
      "execution_count": null,
      "outputs": []
    },
    {
      "cell_type": "code",
      "metadata": {
        "id": "myF1sBeCdxLY"
      },
      "source": [
        "recall_score(y_train_5, y_train_pred_90)"
      ],
      "execution_count": null,
      "outputs": []
    },
    {
      "cell_type": "markdown",
      "metadata": {
        "id": "AwQVKiK_gjEM"
      },
      "source": [
        "### ROC Curve\n",
        "\n",
        "A high precision classifier may not be very useful when the recall is too low"
      ]
    },
    {
      "cell_type": "markdown",
      "metadata": {
        "id": "5a7S8rPUiVSD"
      },
      "source": [
        "#### 1. Using SGDClassifier"
      ]
    },
    {
      "cell_type": "code",
      "metadata": {
        "id": "XDmy51IIgw0d"
      },
      "source": [
        "from sklearn.metrics import roc_curve\n",
        "fpr, tpr, thresholds = roc_curve(y_train_5, y_scores)"
      ],
      "execution_count": null,
      "outputs": []
    },
    {
      "cell_type": "code",
      "metadata": {
        "id": "aF5RFfn9g1Ux"
      },
      "source": [
        "def plot_roc_curve(fpr, tpr, label=None):\n",
        "    plt.plot(fpr, tpr, linewidth=2, label=label)\n",
        "    plt.plot([0, 1], [0, 1], 'k--') # dashed diagonal\n",
        "    plt.axis([0, 1, 0, 1])                                    # Not shown in the book\n",
        "    plt.xlabel('False Positive Rate (Fall-Out)', fontsize=16) # Not shown\n",
        "    plt.ylabel('True Positive Rate (Recall)', fontsize=16)    # Not shown\n",
        "    plt.grid(True)                                            # Not shown\n",
        "\n",
        "plt.figure(figsize=(8, 6))                         # Not shown\n",
        "plot_roc_curve(fpr, tpr)\n",
        "plt.plot([4.837e-3, 4.837e-3], [0., 0.4368], \"r:\") # Not shown\n",
        "plt.plot([0.0, 4.837e-3], [0.4368, 0.4368], \"r:\")  # Not shown\n",
        "plt.plot([4.837e-3], [0.4368], \"ro\")               # Not shown                        # Not shown\n",
        "plt.show()"
      ],
      "execution_count": null,
      "outputs": []
    },
    {
      "cell_type": "markdown",
      "metadata": {
        "id": "25Ti3X7Thtbb"
      },
      "source": [
        "Computing AUC"
      ]
    },
    {
      "cell_type": "code",
      "metadata": {
        "id": "mQ9qcAszhu7P"
      },
      "source": [
        "from sklearn.metrics import roc_auc_score\n",
        "\n",
        "roc_auc_score(y_train_5, y_scores)"
      ],
      "execution_count": null,
      "outputs": []
    },
    {
      "cell_type": "markdown",
      "metadata": {
        "id": "JRYE81AViZC0"
      },
      "source": [
        "#### 2. Using RandomForestClassifier"
      ]
    },
    {
      "cell_type": "code",
      "metadata": {
        "id": "5TWFln84ijbm"
      },
      "source": [
        "from sklearn.ensemble import RandomForestClassifier\n",
        "\n",
        "forest_clf = RandomForestClassifier(n_estimators=100, random_state=42)\n",
        "y_probas_forest = cross_val_predict(forest_clf, X_train, y_train_5, cv=3, method=\"predict_proba\")"
      ],
      "execution_count": null,
      "outputs": []
    },
    {
      "cell_type": "code",
      "metadata": {
        "id": "uv7FXBzbilvp"
      },
      "source": [
        "y_scores_forest = y_probas_forest[:, 1] # score = proba of positive class\n",
        "y_scores_forest"
      ],
      "execution_count": null,
      "outputs": []
    },
    {
      "cell_type": "code",
      "metadata": {
        "id": "aUOKTrGIj9TU"
      },
      "source": [
        "fpr_forest, tpr_forest, thresholds_forest = roc_curve(y_train_5,y_scores_forest)"
      ],
      "execution_count": null,
      "outputs": []
    },
    {
      "cell_type": "code",
      "metadata": {
        "id": "8KqVMGGKjHHV"
      },
      "source": [
        "plt.figure(figsize=(8, 6))\n",
        "plt.plot(fpr, tpr, \"b:\", linewidth=2, label=\"SGD\")\n",
        "plot_roc_curve(fpr_forest, tpr_forest, \"Random Forest\")\n",
        "plt.plot([4.837e-3, 4.837e-3], [0., 0.4368], \"r:\")\n",
        "plt.plot([0.0, 4.837e-3], [0.4368, 0.4368], \"r:\")\n",
        "plt.plot([4.837e-3], [0.4368], \"ro\")\n",
        "plt.plot([4.837e-3, 4.837e-3], [0., 0.9487], \"r:\")\n",
        "plt.plot([4.837e-3], [0.9487], \"ro\")\n",
        "plt.grid(True)\n",
        "plt.legend(loc=\"lower right\", fontsize=16)\n",
        "plt.show()"
      ],
      "execution_count": null,
      "outputs": []
    },
    {
      "cell_type": "code",
      "metadata": {
        "id": "scxzCtl3kEI_"
      },
      "source": [
        ""
      ],
      "execution_count": null,
      "outputs": []
    }
  ]
}