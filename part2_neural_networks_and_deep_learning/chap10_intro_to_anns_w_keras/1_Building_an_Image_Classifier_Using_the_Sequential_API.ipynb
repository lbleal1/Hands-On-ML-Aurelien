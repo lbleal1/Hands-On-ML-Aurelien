{
  "nbformat": 4,
  "nbformat_minor": 0,
  "metadata": {
    "colab": {
      "name": "1 - Building an Image Classifier Using the Sequential API.ipynb",
      "provenance": [],
      "collapsed_sections": [],
      "toc_visible": true
    },
    "kernelspec": {
      "name": "python3",
      "display_name": "Python 3"
    },
    "accelerator": "GPU"
  },
  "cells": [
    {
      "cell_type": "markdown",
      "metadata": {
        "id": "A3r7Eh2LMOSN"
      },
      "source": [
        "# **Dataset description:**\n",
        "Fashion MNIST\n",
        "- 70,000 grayscale images\n",
        "- 28 x 28 image size\n",
        "- 10 classes"
      ]
    },
    {
      "cell_type": "code",
      "metadata": {
        "id": "1-KI_sAjM4lP"
      },
      "source": [
        "import tensorflow as tf\n",
        "from tensorflow import keras\n",
        "\n",
        "import numpy as np"
      ],
      "execution_count": null,
      "outputs": []
    },
    {
      "cell_type": "markdown",
      "metadata": {
        "id": "YzD54VVJMtmp"
      },
      "source": [
        "# Loading the dataset"
      ]
    },
    {
      "cell_type": "code",
      "metadata": {
        "id": "qNZ1UxUMLGl2"
      },
      "source": [
        "fashion_mnist = keras.datasets.fashion_mnist"
      ],
      "execution_count": null,
      "outputs": []
    },
    {
      "cell_type": "code",
      "metadata": {
        "id": "gNoXviVwNFeJ"
      },
      "source": [
        "(X_train_full, y_train_full), (X_test, y_test) = fashion_mnist.load_data()"
      ],
      "execution_count": null,
      "outputs": []
    },
    {
      "cell_type": "code",
      "metadata": {
        "colab": {
          "base_uri": "https://localhost:8080/"
        },
        "id": "fPhvmSpcNVdW",
        "outputId": "eb3eba45-54bd-40df-df1b-cc91cc85ca23"
      },
      "source": [
        "# checking the shapes and dtype\n",
        "print(X_train_full.shape)\n",
        "print(X_train_full.dtype)"
      ],
      "execution_count": null,
      "outputs": [
        {
          "output_type": "stream",
          "text": [
            "(60000, 28, 28)\n",
            "uint8\n"
          ],
          "name": "stdout"
        }
      ]
    },
    {
      "cell_type": "markdown",
      "metadata": {
        "id": "YbMksrujN7Sw"
      },
      "source": [
        "# Preprocessing the dataset\n",
        "- further splits (train-val), normalization for Gradient Descent, defining class names "
      ]
    },
    {
      "cell_type": "code",
      "metadata": {
        "id": "IHK-xU9TN9wS"
      },
      "source": [
        "# split the original train set into train-valid splits\n",
        "# we divide by 255.0 to normalize the values to 0-1 since we are using Gradient Descent\n",
        "# we use a float 255.0 to convert the images to floats also since Keras loads images as integers instead\n",
        "X_valid, X_train = X_train_full[:5000] / 255.0, X_train_full[5000:]/ 255.0\n",
        "y_valid, y_train = y_train_full[:5000], y_train_full[5000:]"
      ],
      "execution_count": null,
      "outputs": []
    },
    {
      "cell_type": "code",
      "metadata": {
        "id": "4XciSxNkO6t2"
      },
      "source": [
        "class_names = [\"T-shirt/top\", \"Trouser\", \"Pullover\", \"Dress\", \"Coat\", \"Sandal\", \"Shirt\", \"Sneaker\", \"Bag\", \"Ankle boot\"]"
      ],
      "execution_count": null,
      "outputs": []
    },
    {
      "cell_type": "code",
      "metadata": {
        "colab": {
          "base_uri": "https://localhost:8080/"
        },
        "id": "DEig8KWxQA_h",
        "outputId": "a49cf446-d2e0-477d-b3d1-392277bffeaf"
      },
      "source": [
        "# checking the first image in the training set\n",
        "y_train[0], class_names[y_train[0]]"
      ],
      "execution_count": null,
      "outputs": [
        {
          "output_type": "execute_result",
          "data": {
            "text/plain": [
              "(4, 'Coat')"
            ]
          },
          "metadata": {
            "tags": []
          },
          "execution_count": 10
        }
      ]
    },
    {
      "cell_type": "markdown",
      "metadata": {
        "id": "ZT8MwRUFQS35"
      },
      "source": [
        "# Creating the model using the Sequential API"
      ]
    },
    {
      "cell_type": "markdown",
      "metadata": {
        "id": "bMP2a9rIYinf"
      },
      "source": [
        "## Method #1 - Adding layers one by one"
      ]
    },
    {
      "cell_type": "code",
      "metadata": {
        "id": "_JkGBf-IRVhv"
      },
      "source": [
        "# Classification MLP with two hidden layers\n",
        "\n",
        "# creating a Sequential model\n",
        "model = keras.models.Sequential()\n",
        "\n",
        "# flattenning the input in the input layer\n",
        "model.add(keras.layers.Flatten(input_shape=[28,28]))\n",
        "\n",
        "# two dense hidden layers\n",
        "model.add(keras.layers.Dense(300, activation=\"relu\"))\n",
        "model.add(keras.layers.Dense(100, activation=\"relu\"))\n",
        "\n",
        "# dense output layer\n",
        "model.add(keras.layers.Dense(10, activation=\"softmax\"))"
      ],
      "execution_count": null,
      "outputs": []
    },
    {
      "cell_type": "markdown",
      "metadata": {
        "id": "TSm02XlCYrk4"
      },
      "source": [
        "## Method #2 - Pass a list of layers"
      ]
    },
    {
      "cell_type": "code",
      "metadata": {
        "id": "Lgb9DN9CYwAR"
      },
      "source": [
        "model = keras.models.Sequential([\n",
        "  keras.layers.Flatten(input_shape=[28,28]),\n",
        "  keras.layers.Dense(300, activation=\"relu\"),\n",
        "  keras.layers.Dense(100, activation=\"relu\"),\n",
        "  keras.layers.Dense(10, activation=\"softmax\")                               \n",
        "])"
      ],
      "execution_count": null,
      "outputs": []
    },
    {
      "cell_type": "markdown",
      "metadata": {
        "id": "eD46nT-tZejr"
      },
      "source": [
        "# Viewing the created model"
      ]
    },
    {
      "cell_type": "markdown",
      "metadata": {
        "id": "z5qfWqnyhUf3"
      },
      "source": [
        "## Viewing the model's layers"
      ]
    },
    {
      "cell_type": "code",
      "metadata": {
        "colab": {
          "base_uri": "https://localhost:8080/"
        },
        "id": "Ke_oMiVXZl33",
        "outputId": "1e907df9-90ee-421c-e326-f9dde369f957"
      },
      "source": [
        "model.summary()"
      ],
      "execution_count": null,
      "outputs": [
        {
          "output_type": "stream",
          "text": [
            "Model: \"sequential_1\"\n",
            "_________________________________________________________________\n",
            "Layer (type)                 Output Shape              Param #   \n",
            "=================================================================\n",
            "flatten_1 (Flatten)          (None, 784)               0         \n",
            "_________________________________________________________________\n",
            "dense_3 (Dense)              (None, 300)               235500    \n",
            "_________________________________________________________________\n",
            "dense_4 (Dense)              (None, 100)               30100     \n",
            "_________________________________________________________________\n",
            "dense_5 (Dense)              (None, 10)                1010      \n",
            "=================================================================\n",
            "Total params: 266,610\n",
            "Trainable params: 266,610\n",
            "Non-trainable params: 0\n",
            "_________________________________________________________________\n"
          ],
          "name": "stdout"
        }
      ]
    },
    {
      "cell_type": "code",
      "metadata": {
        "colab": {
          "base_uri": "https://localhost:8080/",
          "height": 465
        },
        "id": "z_yK2xg6aCaa",
        "outputId": "72f5982f-4abb-4a01-8265-84e887711e3b"
      },
      "source": [
        "keras.utils.plot_model(model)"
      ],
      "execution_count": null,
      "outputs": [
        {
          "output_type": "execute_result",
          "data": {
            "image/png": "[encoded data removed]",
            "text/plain": [
              "<IPython.core.display.Image object>"
            ]
          },
          "metadata": {
            "tags": []
          },
          "execution_count": 16
        }
      ]
    },
    {
      "cell_type": "code",
      "metadata": {
        "colab": {
          "base_uri": "https://localhost:8080/"
        },
        "id": "yfqr2RwLfkGG",
        "outputId": "a30378e5-0ec2-44ef-bd14-7e7965e7253d"
      },
      "source": [
        "# get a model's list of layers\n",
        "model.layers"
      ],
      "execution_count": null,
      "outputs": [
        {
          "output_type": "execute_result",
          "data": {
            "text/plain": [
              "[<tensorflow.python.keras.layers.core.Flatten at 0x7faa07b55518>,\n",
              " <tensorflow.python.keras.layers.core.Dense at 0x7faa07b83f60>,\n",
              " <tensorflow.python.keras.layers.core.Dense at 0x7faa0e34a208>,\n",
              " <tensorflow.python.keras.layers.core.Dense at 0x7faa07b55d68>]"
            ]
          },
          "metadata": {
            "tags": []
          },
          "execution_count": 17
        }
      ]
    },
    {
      "cell_type": "markdown",
      "metadata": {
        "id": "gueo9rQWhZGq"
      },
      "source": [
        "## Fetching layers by index or name"
      ]
    },
    {
      "cell_type": "code",
      "metadata": {
        "colab": {
          "base_uri": "https://localhost:8080/",
          "height": 35
        },
        "id": "ffPi_bsSfry9",
        "outputId": "3d2407e8-c15a-4f86-955f-5c09813c5bbb"
      },
      "source": [
        "# fetch a layer by its index\n",
        "hidden1 = model.layers[1]\n",
        "hidden1.name"
      ],
      "execution_count": null,
      "outputs": [
        {
          "output_type": "execute_result",
          "data": {
            "application/vnd.google.colaboratory.intrinsic+json": {
              "type": "string"
            },
            "text/plain": [
              "'dense_3'"
            ]
          },
          "metadata": {
            "tags": []
          },
          "execution_count": 19
        }
      ]
    },
    {
      "cell_type": "code",
      "metadata": {
        "colab": {
          "base_uri": "https://localhost:8080/"
        },
        "id": "nIgxOMX8f_GG",
        "outputId": "b5fd3491-dc3d-4485-bb05-d642e4d3584a"
      },
      "source": [
        "# fetch a layer by its name\n",
        "model.get_layer('dense_3') "
      ],
      "execution_count": null,
      "outputs": [
        {
          "output_type": "execute_result",
          "data": {
            "text/plain": [
              "<tensorflow.python.keras.layers.core.Dense at 0x7faa07b83f60>"
            ]
          },
          "metadata": {
            "tags": []
          },
          "execution_count": 22
        }
      ]
    },
    {
      "cell_type": "markdown",
      "metadata": {
        "id": "8N30kwp3hcvN"
      },
      "source": [
        "## Accessing the parameters of a layer"
      ]
    },
    {
      "cell_type": "code",
      "metadata": {
        "id": "vpzxUIrtgQFT"
      },
      "source": [
        "# accessing the parameters of a layer\n",
        "weights, biases = hidden1.get_weights()"
      ],
      "execution_count": null,
      "outputs": []
    },
    {
      "cell_type": "code",
      "metadata": {
        "colab": {
          "base_uri": "https://localhost:8080/"
        },
        "id": "t1WehyxTgagH",
        "outputId": "33136634-c16c-4245-cc4b-eb712ffc52e6"
      },
      "source": [
        "weights"
      ],
      "execution_count": null,
      "outputs": [
        {
          "output_type": "execute_result",
          "data": {
            "text/plain": [
              "array([[ 0.06093101,  0.07005003,  0.01213757, ...,  0.05978303,\n",
              "         0.06940414, -0.05071634],\n",
              "       [-0.01889035, -0.06628013, -0.02100167, ..., -0.05772836,\n",
              "         0.02506391,  0.01302904],\n",
              "       [ 0.04917233,  0.01555844,  0.06815334, ...,  0.04015029,\n",
              "         0.00884482,  0.07172188],\n",
              "       ...,\n",
              "       [ 0.03710367,  0.04292497,  0.01462013, ..., -0.00364021,\n",
              "        -0.06703083,  0.00418252],\n",
              "       [ 0.00754673, -0.03510699,  0.05524209, ...,  0.00747484,\n",
              "         0.02781895, -0.07203516],\n",
              "       [ 0.05904375, -0.03132696,  0.03857985, ...,  0.02386444,\n",
              "         0.07336204, -0.06490206]], dtype=float32)"
            ]
          },
          "metadata": {
            "tags": []
          },
          "execution_count": 24
        }
      ]
    },
    {
      "cell_type": "code",
      "metadata": {
        "colab": {
          "base_uri": "https://localhost:8080/"
        },
        "id": "5sp1ovRcghA-",
        "outputId": "8d74720e-cc33-4b59-e583-2815838bf132"
      },
      "source": [
        "weights.shape"
      ],
      "execution_count": null,
      "outputs": [
        {
          "output_type": "execute_result",
          "data": {
            "text/plain": [
              "(784, 300)"
            ]
          },
          "metadata": {
            "tags": []
          },
          "execution_count": 26
        }
      ]
    },
    {
      "cell_type": "code",
      "metadata": {
        "colab": {
          "base_uri": "https://localhost:8080/"
        },
        "id": "FVNJUe42gb4l",
        "outputId": "af637395-86ce-4506-ffd4-90cf31fe0e64"
      },
      "source": [
        "biases"
      ],
      "execution_count": null,
      "outputs": [
        {
          "output_type": "execute_result",
          "data": {
            "text/plain": [
              "array([0., 0., 0., 0., 0., 0., 0., 0., 0., 0., 0., 0., 0., 0., 0., 0., 0.,\n",
              "       0., 0., 0., 0., 0., 0., 0., 0., 0., 0., 0., 0., 0., 0., 0., 0., 0.,\n",
              "       0., 0., 0., 0., 0., 0., 0., 0., 0., 0., 0., 0., 0., 0., 0., 0., 0.,\n",
              "       0., 0., 0., 0., 0., 0., 0., 0., 0., 0., 0., 0., 0., 0., 0., 0., 0.,\n",
              "       0., 0., 0., 0., 0., 0., 0., 0., 0., 0., 0., 0., 0., 0., 0., 0., 0.,\n",
              "       0., 0., 0., 0., 0., 0., 0., 0., 0., 0., 0., 0., 0., 0., 0., 0., 0.,\n",
              "       0., 0., 0., 0., 0., 0., 0., 0., 0., 0., 0., 0., 0., 0., 0., 0., 0.,\n",
              "       0., 0., 0., 0., 0., 0., 0., 0., 0., 0., 0., 0., 0., 0., 0., 0., 0.,\n",
              "       0., 0., 0., 0., 0., 0., 0., 0., 0., 0., 0., 0., 0., 0., 0., 0., 0.,\n",
              "       0., 0., 0., 0., 0., 0., 0., 0., 0., 0., 0., 0., 0., 0., 0., 0., 0.,\n",
              "       0., 0., 0., 0., 0., 0., 0., 0., 0., 0., 0., 0., 0., 0., 0., 0., 0.,\n",
              "       0., 0., 0., 0., 0., 0., 0., 0., 0., 0., 0., 0., 0., 0., 0., 0., 0.,\n",
              "       0., 0., 0., 0., 0., 0., 0., 0., 0., 0., 0., 0., 0., 0., 0., 0., 0.,\n",
              "       0., 0., 0., 0., 0., 0., 0., 0., 0., 0., 0., 0., 0., 0., 0., 0., 0.,\n",
              "       0., 0., 0., 0., 0., 0., 0., 0., 0., 0., 0., 0., 0., 0., 0., 0., 0.,\n",
              "       0., 0., 0., 0., 0., 0., 0., 0., 0., 0., 0., 0., 0., 0., 0., 0., 0.,\n",
              "       0., 0., 0., 0., 0., 0., 0., 0., 0., 0., 0., 0., 0., 0., 0., 0., 0.,\n",
              "       0., 0., 0., 0., 0., 0., 0., 0., 0., 0., 0.], dtype=float32)"
            ]
          },
          "metadata": {
            "tags": []
          },
          "execution_count": 25
        }
      ]
    },
    {
      "cell_type": "code",
      "metadata": {
        "colab": {
          "base_uri": "https://localhost:8080/"
        },
        "id": "cuRy1Lg1gjhx",
        "outputId": "963857d1-f38f-4581-b412-d105c9417047"
      },
      "source": [
        "biases.shape"
      ],
      "execution_count": null,
      "outputs": [
        {
          "output_type": "execute_result",
          "data": {
            "text/plain": [
              "(300,)"
            ]
          },
          "metadata": {
            "tags": []
          },
          "execution_count": 27
        }
      ]
    },
    {
      "cell_type": "markdown",
      "metadata": {
        "id": "3NCvOacwhpg8"
      },
      "source": [
        "# Compiling the model\n",
        "\n",
        "- specifying the loss function and optimizer to use"
      ]
    },
    {
      "cell_type": "code",
      "metadata": {
        "id": "5a3MbZ9-hm33"
      },
      "source": [
        "model.compile(loss = \"sparse_categorical_crossentropy\",\n",
        "              optimizer = keras.optimizers.SGD(lr=0.01),\n",
        "              metrics=[\"accuracy\"])"
      ],
      "execution_count": null,
      "outputs": []
    },
    {
      "cell_type": "markdown",
      "metadata": {
        "id": "mvt0oe00i94m"
      },
      "source": [
        "# Training and evaluating the model"
      ]
    },
    {
      "cell_type": "code",
      "metadata": {
        "colab": {
          "base_uri": "https://localhost:8080/"
        },
        "id": "T2Ac9oznjC4F",
        "outputId": "2001184b-2f56-4548-c44c-032cd9dfb031"
      },
      "source": [
        "history = model.fit(X_train, y_train, epochs=30, validation_data=(X_valid, y_valid))"
      ],
      "execution_count": null,
      "outputs": [
        {
          "output_type": "stream",
          "text": [
            "Epoch 1/30\n",
            "1719/1719 [==============================] - 4s 3ms/step - loss: 0.7235 - accuracy: 0.7628 - val_loss: 0.5170 - val_accuracy: 0.8294\n",
            "Epoch 2/30\n",
            "1719/1719 [==============================] - 4s 2ms/step - loss: 0.4906 - accuracy: 0.8287 - val_loss: 0.4452 - val_accuracy: 0.8490\n",
            "Epoch 3/30\n",
            "1719/1719 [==============================] - 4s 2ms/step - loss: 0.4486 - accuracy: 0.8423 - val_loss: 0.4149 - val_accuracy: 0.8588\n",
            "Epoch 4/30\n",
            "1719/1719 [==============================] - 4s 2ms/step - loss: 0.4211 - accuracy: 0.8512 - val_loss: 0.4224 - val_accuracy: 0.8492\n",
            "Epoch 5/30\n",
            "1719/1719 [==============================] - 4s 2ms/step - loss: 0.4007 - accuracy: 0.8595 - val_loss: 0.4151 - val_accuracy: 0.8570\n",
            "Epoch 6/30\n",
            "1719/1719 [==============================] - 4s 2ms/step - loss: 0.3850 - accuracy: 0.8631 - val_loss: 0.3778 - val_accuracy: 0.8712\n",
            "Epoch 7/30\n",
            "1719/1719 [==============================] - 4s 2ms/step - loss: 0.3697 - accuracy: 0.8692 - val_loss: 0.3728 - val_accuracy: 0.8712\n",
            "Epoch 8/30\n",
            "1719/1719 [==============================] - 4s 2ms/step - loss: 0.3585 - accuracy: 0.8737 - val_loss: 0.3547 - val_accuracy: 0.8756\n",
            "Epoch 9/30\n",
            "1719/1719 [==============================] - 4s 2ms/step - loss: 0.3481 - accuracy: 0.8771 - val_loss: 0.3751 - val_accuracy: 0.8636\n",
            "Epoch 10/30\n",
            "1719/1719 [==============================] - 4s 2ms/step - loss: 0.3379 - accuracy: 0.8793 - val_loss: 0.3500 - val_accuracy: 0.8756\n",
            "Epoch 11/30\n",
            "1719/1719 [==============================] - 4s 2ms/step - loss: 0.3297 - accuracy: 0.8827 - val_loss: 0.3320 - val_accuracy: 0.8828\n",
            "Epoch 12/30\n",
            "1719/1719 [==============================] - 4s 2ms/step - loss: 0.3208 - accuracy: 0.8860 - val_loss: 0.3484 - val_accuracy: 0.8760\n",
            "Epoch 13/30\n",
            "1719/1719 [==============================] - 4s 2ms/step - loss: 0.3129 - accuracy: 0.8881 - val_loss: 0.3359 - val_accuracy: 0.8790\n",
            "Epoch 14/30\n",
            "1719/1719 [==============================] - 4s 2ms/step - loss: 0.3066 - accuracy: 0.8897 - val_loss: 0.3299 - val_accuracy: 0.8802\n",
            "Epoch 15/30\n",
            "1719/1719 [==============================] - 4s 2ms/step - loss: 0.2998 - accuracy: 0.8915 - val_loss: 0.3291 - val_accuracy: 0.8846\n",
            "Epoch 16/30\n",
            "1719/1719 [==============================] - 4s 2ms/step - loss: 0.2938 - accuracy: 0.8946 - val_loss: 0.3311 - val_accuracy: 0.8812\n",
            "Epoch 17/30\n",
            "1719/1719 [==============================] - 4s 2ms/step - loss: 0.2881 - accuracy: 0.8971 - val_loss: 0.3220 - val_accuracy: 0.8832\n",
            "Epoch 18/30\n",
            "1719/1719 [==============================] - 4s 2ms/step - loss: 0.2821 - accuracy: 0.8982 - val_loss: 0.3191 - val_accuracy: 0.8820\n",
            "Epoch 19/30\n",
            "1719/1719 [==============================] - 4s 2ms/step - loss: 0.2773 - accuracy: 0.9005 - val_loss: 0.3113 - val_accuracy: 0.8872\n",
            "Epoch 20/30\n",
            "1719/1719 [==============================] - 4s 2ms/step - loss: 0.2723 - accuracy: 0.9024 - val_loss: 0.3231 - val_accuracy: 0.8836\n",
            "Epoch 21/30\n",
            "1719/1719 [==============================] - 4s 2ms/step - loss: 0.2671 - accuracy: 0.9040 - val_loss: 0.3339 - val_accuracy: 0.8784\n",
            "Epoch 22/30\n",
            "1719/1719 [==============================] - 4s 2ms/step - loss: 0.2625 - accuracy: 0.9048 - val_loss: 0.3284 - val_accuracy: 0.8782\n",
            "Epoch 23/30\n",
            "1719/1719 [==============================] - 4s 2ms/step - loss: 0.2577 - accuracy: 0.9071 - val_loss: 0.3039 - val_accuracy: 0.8874\n",
            "Epoch 24/30\n",
            "1719/1719 [==============================] - 4s 2ms/step - loss: 0.2524 - accuracy: 0.9088 - val_loss: 0.3108 - val_accuracy: 0.8870\n",
            "Epoch 25/30\n",
            "1719/1719 [==============================] - 4s 2ms/step - loss: 0.2490 - accuracy: 0.9098 - val_loss: 0.3305 - val_accuracy: 0.8808\n",
            "Epoch 26/30\n",
            "1719/1719 [==============================] - 4s 2ms/step - loss: 0.2455 - accuracy: 0.9110 - val_loss: 0.3100 - val_accuracy: 0.8900\n",
            "Epoch 27/30\n",
            "1719/1719 [==============================] - 4s 2ms/step - loss: 0.2413 - accuracy: 0.9130 - val_loss: 0.3042 - val_accuracy: 0.8896\n",
            "Epoch 28/30\n",
            "1719/1719 [==============================] - 4s 2ms/step - loss: 0.2371 - accuracy: 0.9137 - val_loss: 0.2940 - val_accuracy: 0.8930\n",
            "Epoch 29/30\n",
            "1719/1719 [==============================] - 4s 2ms/step - loss: 0.2334 - accuracy: 0.9160 - val_loss: 0.3027 - val_accuracy: 0.8908\n",
            "Epoch 30/30\n",
            "1719/1719 [==============================] - 4s 2ms/step - loss: 0.2301 - accuracy: 0.9165 - val_loss: 0.3015 - val_accuracy: 0.8854\n"
          ],
          "name": "stdout"
        }
      ]
    },
    {
      "cell_type": "markdown",
      "metadata": {
        "id": "CWGRLOhSrIQv"
      },
      "source": [
        "# Plotting the loss and accuracy of a trained model\n"
      ]
    },
    {
      "cell_type": "code",
      "metadata": {
        "colab": {
          "base_uri": "https://localhost:8080/",
          "height": 324
        },
        "id": "HjDwg1amrhNM",
        "outputId": "8fe855f3-f6d1-4732-a6fb-aed08f39c400"
      },
      "source": [
        "import pandas as pd\n",
        "import matplotlib.pyplot as plt\n",
        "\n",
        "pd.DataFrame(history.history).plot(figsize=(8,5))\n",
        "plt.grid(True)\n",
        "plt.gca().set_ylim(0,1) \n",
        "plt.show()"
      ],
      "execution_count": null,
      "outputs": [
        {
          "output_type": "display_data",
          "data": {
            "image/png": "[encoded data removed]",
            "text/plain": [
              "<Figure size 576x360 with 1 Axes>"
            ]
          },
          "metadata": {
            "tags": [],
            "needs_background": "light"
          }
        }
      ]
    },
    {
      "cell_type": "markdown",
      "metadata": {
        "id": "rH1Npr2Go3S9"
      },
      "source": [
        "# Evaluating the model"
      ]
    },
    {
      "cell_type": "code",
      "metadata": {
        "colab": {
          "base_uri": "https://localhost:8080/"
        },
        "id": "Ju-TTOBXo8O9",
        "outputId": "8f797679-20fb-4d38-fe36-a3f4bd1c38b4"
      },
      "source": [
        "model.evaluate(X_test, y_test)"
      ],
      "execution_count": null,
      "outputs": [
        {
          "output_type": "stream",
          "text": [
            "313/313 [==============================] - 1s 2ms/step - loss: 74.1167 - accuracy: 0.8347\n"
          ],
          "name": "stdout"
        },
        {
          "output_type": "execute_result",
          "data": {
            "text/plain": [
              "[74.11666870117188, 0.8346999883651733]"
            ]
          },
          "metadata": {
            "tags": []
          },
          "execution_count": 30
        }
      ]
    },
    {
      "cell_type": "markdown",
      "metadata": {
        "id": "YRXJU8HmpIVV"
      },
      "source": [
        "# Making predictions"
      ]
    },
    {
      "cell_type": "code",
      "metadata": {
        "id": "GcmQ-AHsqAHf"
      },
      "source": [
        "X_new = X_test[:3]"
      ],
      "execution_count": null,
      "outputs": []
    },
    {
      "cell_type": "markdown",
      "metadata": {
        "id": "XUI6lyj4pudc"
      },
      "source": [
        "## Looking at the predicted probabilities for each class"
      ]
    },
    {
      "cell_type": "code",
      "metadata": {
        "colab": {
          "base_uri": "https://localhost:8080/"
        },
        "id": "yvcKO_vCpMrc",
        "outputId": "c2bba966-05db-4ce0-d496-de95806a56cc"
      },
      "source": [
        "# since we have no new instances, we'll try to reuse the first three instances of the test set\n",
        "y_proba = model.predict(X_new)\n",
        "y_proba.round(2)"
      ],
      "execution_count": null,
      "outputs": [
        {
          "output_type": "execute_result",
          "data": {
            "text/plain": [
              "array([[0., 0., 0., 0., 0., 0., 0., 0., 0., 1.],\n",
              "       [0., 0., 1., 0., 0., 0., 0., 0., 0., 0.],\n",
              "       [0., 1., 0., 0., 0., 0., 0., 0., 0., 0.]], dtype=float32)"
            ]
          },
          "metadata": {
            "tags": []
          },
          "execution_count": 33
        }
      ]
    },
    {
      "cell_type": "markdown",
      "metadata": {
        "id": "mMwM4ta4pzm0"
      },
      "source": [
        "## Looking at the class with the highest estimated probability"
      ]
    },
    {
      "cell_type": "code",
      "metadata": {
        "colab": {
          "base_uri": "https://localhost:8080/"
        },
        "id": "8N0qDkWfptdx",
        "outputId": "4cd2a49c-3e9b-4681-d9db-548e3d0e60df"
      },
      "source": [
        "y_pred = model.predict_classes(X_new)\n",
        "y_pred"
      ],
      "execution_count": null,
      "outputs": [
        {
          "output_type": "stream",
          "text": [
            "WARNING:tensorflow:From <ipython-input-34-81ace37e545f>:1: Sequential.predict_classes (from tensorflow.python.keras.engine.sequential) is deprecated and will be removed after 2021-01-01.\n",
            "Instructions for updating:\n",
            "Please use instead:* `np.argmax(model.predict(x), axis=-1)`,   if your model does multi-class classification   (e.g. if it uses a `softmax` last-layer activation).* `(model.predict(x) > 0.5).astype(\"int32\")`,   if your model does binary classification   (e.g. if it uses a `sigmoid` last-layer activation).\n"
          ],
          "name": "stdout"
        },
        {
          "output_type": "execute_result",
          "data": {
            "text/plain": [
              "array([9, 2, 1])"
            ]
          },
          "metadata": {
            "tags": []
          },
          "execution_count": 34
        }
      ]
    },
    {
      "cell_type": "code",
      "metadata": {
        "colab": {
          "base_uri": "https://localhost:8080/"
        },
        "id": "DKkCjoZFseKj",
        "outputId": "27128823-17de-4aa9-e704-08783a3c58eb"
      },
      "source": [
        "# alternative\n",
        "np.argmax(model.predict(X_new), axis=-1)"
      ],
      "execution_count": null,
      "outputs": [
        {
          "output_type": "execute_result",
          "data": {
            "text/plain": [
              "array([9, 2, 1])"
            ]
          },
          "metadata": {
            "tags": []
          },
          "execution_count": 45
        }
      ]
    },
    {
      "cell_type": "code",
      "metadata": {
        "colab": {
          "base_uri": "https://localhost:8080/"
        },
        "id": "ZhTQZteaqUyl",
        "outputId": "9171dd51-afde-488e-a804-8072d5435f03"
      },
      "source": [
        "# checking the class names of the predictions\n",
        "np.array(class_names)[y_pred]"
      ],
      "execution_count": null,
      "outputs": [
        {
          "output_type": "execute_result",
          "data": {
            "text/plain": [
              "array(['Ankle boot', 'Pullover', 'Trouser'], dtype='<U11')"
            ]
          },
          "metadata": {
            "tags": []
          },
          "execution_count": 42
        }
      ]
    },
    {
      "cell_type": "code",
      "metadata": {
        "colab": {
          "base_uri": "https://localhost:8080/"
        },
        "id": "GVF0JXr7qsJx",
        "outputId": "2b4a5c7b-6cd3-4976-9536-b45a36c870bf"
      },
      "source": [
        "# did it predict correctly?\n",
        "# it does\n",
        "y_test[:3]"
      ],
      "execution_count": null,
      "outputs": [
        {
          "output_type": "execute_result",
          "data": {
            "text/plain": [
              "array([9, 2, 1], dtype=uint8)"
            ]
          },
          "metadata": {
            "tags": []
          },
          "execution_count": 43
        }
      ]
    }
  ]
}