{
  "nbformat": 4,
  "nbformat_minor": 0,
  "metadata": {
    "colab": {
      "name": "2 - Building a Regression MLP using Sequential API.ipynb",
      "provenance": []
    },
    "kernelspec": {
      "name": "python3",
      "display_name": "Python 3"
    }
  },
  "cells": [
    {
      "cell_type": "markdown",
      "metadata": {
        "id": "7a_hKUkZYmwV"
      },
      "source": [
        "# Dataset\n",
        "\n",
        "California Housing\n",
        "- Data is different from Chapter 2 which has categorical features and has missing values. This is already cleaned in that sense for our purpose of focusing on the technical aspects of building a regression mlp using Sequential API. "
      ]
    },
    {
      "cell_type": "code",
      "metadata": {
        "id": "AcyapbPAYgR-"
      },
      "source": [
        "from sklearn.datasets import fetch_california_housing\n",
        "from sklearn.model_selection import train_test_split\n",
        "from sklearn.preprocessing import StandardScaler\n",
        "\n",
        "import tensorflow as tf\n",
        "from tensorflow import keras"
      ],
      "execution_count": 1,
      "outputs": []
    },
    {
      "cell_type": "markdown",
      "metadata": {
        "id": "0eSFcCXAasui"
      },
      "source": [
        "# Loading the dataset"
      ]
    },
    {
      "cell_type": "code",
      "metadata": {
        "colab": {
          "base_uri": "https://localhost:8080/"
        },
        "id": "ksCLtTTqZY0w",
        "outputId": "0536c48b-5a16-4906-942b-0430a5c3466d"
      },
      "source": [
        "housing = fetch_california_housing()"
      ],
      "execution_count": 2,
      "outputs": [
        {
          "output_type": "stream",
          "text": [
            "Downloading Cal. housing from https://ndownloader.figshare.com/files/5976036 to /root/scikit_learn_data\n"
          ],
          "name": "stderr"
        }
      ]
    },
    {
      "cell_type": "code",
      "metadata": {
        "id": "Snwgeh6xZdLG"
      },
      "source": [
        "X_train_full, X_test, y_train_full, y_test = train_test_split(housing.data, housing.target)"
      ],
      "execution_count": 3,
      "outputs": []
    },
    {
      "cell_type": "markdown",
      "metadata": {
        "id": "az5I87cVa_l0"
      },
      "source": [
        "# Preprocessing the dataset"
      ]
    },
    {
      "cell_type": "code",
      "metadata": {
        "id": "A2zRNWFeZrKV"
      },
      "source": [
        "X_train, X_valid, y_train, y_valid = train_test_split(X_train_full, y_train_full)"
      ],
      "execution_count": 4,
      "outputs": []
    },
    {
      "cell_type": "code",
      "metadata": {
        "id": "8dEJ_SwFZzpH"
      },
      "source": [
        "scaler = StandardScaler()\n",
        "X_train = scaler.fit_transform(X_train)\n",
        "X_valid = scaler.transform(X_valid)\n",
        "X_test = scaler.transform(X_test)"
      ],
      "execution_count": 5,
      "outputs": []
    },
    {
      "cell_type": "markdown",
      "metadata": {
        "id": "4smjze-fbSKw"
      },
      "source": [
        "**Remark:** Main differences between building a regression MLP and building a classification MLP\n",
        "* the output layer has a single neuron and has no activation function\n",
        "* loss function is MAE"
      ]
    },
    {
      "cell_type": "markdown",
      "metadata": {
        "id": "MyD-hbbKbpJH"
      },
      "source": [
        "# Creating the model using the Sequential API"
      ]
    },
    {
      "cell_type": "code",
      "metadata": {
        "id": "bi6l5DUsbrZt"
      },
      "source": [
        "model = keras.models.Sequential([\n",
        "  keras.layers.Dense(30, activation=\"relu\", input_shape=X_train.shape[1:]),\n",
        "  keras.layers.Dense(1)                               \n",
        "])"
      ],
      "execution_count": 6,
      "outputs": []
    },
    {
      "cell_type": "markdown",
      "metadata": {
        "id": "qEk91brxcVNe"
      },
      "source": [
        "# Compiling the model"
      ]
    },
    {
      "cell_type": "code",
      "metadata": {
        "id": "Zr8lV5oPcS6Y"
      },
      "source": [
        "model.compile(loss=\"mean_squared_error\", optimizer=\"sgd\")"
      ],
      "execution_count": 7,
      "outputs": []
    },
    {
      "cell_type": "markdown",
      "metadata": {
        "id": "KMEGBf-kcgST"
      },
      "source": [
        "# Training and evaluating the model"
      ]
    },
    {
      "cell_type": "code",
      "metadata": {
        "colab": {
          "base_uri": "https://localhost:8080/"
        },
        "id": "qEBpHgaOchkc",
        "outputId": "2289ad2a-30a3-416d-84d1-33dcd14f74fd"
      },
      "source": [
        "history = model.fit(X_train, y_train, epochs=20, validation_data=(X_valid, y_valid))"
      ],
      "execution_count": 8,
      "outputs": [
        {
          "output_type": "stream",
          "text": [
            "Epoch 1/20\n",
            "363/363 [==============================] - 0s 1ms/step - loss: 0.8434 - val_loss: 0.6220\n",
            "Epoch 2/20\n",
            "363/363 [==============================] - 0s 1ms/step - loss: 0.5407 - val_loss: 0.4910\n",
            "Epoch 3/20\n",
            "363/363 [==============================] - 0s 956us/step - loss: 0.5933 - val_loss: 0.4585\n",
            "Epoch 4/20\n",
            "363/363 [==============================] - 0s 906us/step - loss: 0.4658 - val_loss: 0.4337\n",
            "Epoch 5/20\n",
            "363/363 [==============================] - 0s 971us/step - loss: 0.4257 - val_loss: 0.4144\n",
            "Epoch 6/20\n",
            "363/363 [==============================] - 0s 928us/step - loss: 0.4115 - val_loss: 0.4029\n",
            "Epoch 7/20\n",
            "363/363 [==============================] - 0s 947us/step - loss: 0.4039 - val_loss: 0.4119\n",
            "Epoch 8/20\n",
            "363/363 [==============================] - 0s 952us/step - loss: 0.3989 - val_loss: 0.3955\n",
            "Epoch 9/20\n",
            "363/363 [==============================] - 0s 903us/step - loss: 0.3935 - val_loss: 0.3898\n",
            "Epoch 10/20\n",
            "363/363 [==============================] - 0s 964us/step - loss: 0.3888 - val_loss: 0.3850\n",
            "Epoch 11/20\n",
            "363/363 [==============================] - 0s 977us/step - loss: 0.3860 - val_loss: 0.3811\n",
            "Epoch 12/20\n",
            "363/363 [==============================] - 0s 940us/step - loss: 0.3855 - val_loss: 0.3759\n",
            "Epoch 13/20\n",
            "363/363 [==============================] - 0s 981us/step - loss: 0.3844 - val_loss: 0.3733\n",
            "Epoch 14/20\n",
            "363/363 [==============================] - 0s 975us/step - loss: 0.3785 - val_loss: 0.3718\n",
            "Epoch 15/20\n",
            "363/363 [==============================] - 0s 957us/step - loss: 0.3803 - val_loss: 0.3688\n",
            "Epoch 16/20\n",
            "363/363 [==============================] - 0s 957us/step - loss: 0.3823 - val_loss: 0.3694\n",
            "Epoch 17/20\n",
            "363/363 [==============================] - 0s 909us/step - loss: 0.3727 - val_loss: 0.3667\n",
            "Epoch 18/20\n",
            "363/363 [==============================] - 0s 1ms/step - loss: 0.3769 - val_loss: 0.3635\n",
            "Epoch 19/20\n",
            "363/363 [==============================] - 0s 960us/step - loss: 0.3767 - val_loss: 0.3621\n",
            "Epoch 20/20\n",
            "363/363 [==============================] - 0s 996us/step - loss: 0.3693 - val_loss: 0.3628\n"
          ],
          "name": "stdout"
        }
      ]
    },
    {
      "cell_type": "markdown",
      "metadata": {
        "id": "Yyy5VlB_c8f5"
      },
      "source": [
        "# Evaluating the model"
      ]
    },
    {
      "cell_type": "code",
      "metadata": {
        "colab": {
          "base_uri": "https://localhost:8080/"
        },
        "id": "3f098Sk1c9Wb",
        "outputId": "a8cf701e-5e2c-4f13-c28d-8cf02e037f68"
      },
      "source": [
        "mse_test = model.evaluate(X_test, y_test)"
      ],
      "execution_count": 9,
      "outputs": [
        {
          "output_type": "stream",
          "text": [
            "162/162 [==============================] - 0s 682us/step - loss: 0.3571\n"
          ],
          "name": "stdout"
        }
      ]
    },
    {
      "cell_type": "markdown",
      "metadata": {
        "id": "6Q7eGAdgdE6F"
      },
      "source": [
        "# Making Predictions"
      ]
    },
    {
      "cell_type": "code",
      "metadata": {
        "colab": {
          "base_uri": "https://localhost:8080/"
        },
        "id": "n2_S3ZQOdLoW",
        "outputId": "c78a0f9e-74bc-4c02-f229-f2b9c8f99d0d"
      },
      "source": [
        "X_new = X_test[:3]\n",
        "y_pred = model.predict(X_new)\n",
        "y_pred"
      ],
      "execution_count": 11,
      "outputs": [
        {
          "output_type": "execute_result",
          "data": {
            "text/plain": [
              "array([[3.26354  ],\n",
              "       [1.3323394],\n",
              "       [1.8759527]], dtype=float32)"
            ]
          },
          "metadata": {
            "tags": []
          },
          "execution_count": 11
        }
      ]
    }
  ]
}